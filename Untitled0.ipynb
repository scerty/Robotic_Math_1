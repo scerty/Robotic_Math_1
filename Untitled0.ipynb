{
  "nbformat": 4,
  "nbformat_minor": 0,
  "metadata": {
    "colab": {
      "provenance": [],
      "toc_visible": true,
      "authorship_tag": "ABX9TyMuj9VRnmeHUXSYeMf+NSOE",
      "include_colab_link": true
    },
    "kernelspec": {
      "name": "python3",
      "display_name": "Python 3"
    },
    "language_info": {
      "name": "python"
    }
  },
  "cells": [
    {
      "cell_type": "markdown",
      "metadata": {
        "id": "view-in-github",
        "colab_type": "text"
      },
      "source": [
        "<a href=\"https://colab.research.google.com/github/scerty/Robotic_Math_1/blob/main/Untitled0.ipynb\" target=\"_parent\"><img src=\"https://colab.research.google.com/assets/colab-badge.svg\" alt=\"Open In Colab\"/></a>"
      ]
    },
    {
      "cell_type": "markdown",
      "source": [
        "\n",
        "## **Oppgave 1**\n",
        "\n",
        "* Define variable x = π/2\n",
        "* Compute the result of y = x + sin(x) + x**2/2\n",
        "* store it in a variable denoted y\n",
        "\n"
      ],
      "metadata": {
        "id": "82Uvo0cbtUnY"
      }
    },
    {
      "cell_type": "code",
      "source": [
        "import numpy as np\n",
        "from math import pi ,sin,cos\n",
        "\n",
        "x=pi/2\n",
        "y = x + sin(x) + x**2/2\n",
        "\n",
        "print(y)"
      ],
      "metadata": {
        "id": "61Nh1MXMtmJW",
        "colab": {
          "base_uri": "https://localhost:8080/",
          "height": 0
        },
        "outputId": "3edbee1b-2696-4123-fbd6-bbab781fa707"
      },
      "execution_count": 35,
      "outputs": [
        {
          "output_type": "stream",
          "name": "stdout",
          "text": [
            "3.8044968769310663\n"
          ]
        }
      ]
    },
    {
      "cell_type": "markdown",
      "source": [
        "\n",
        "## **Oppgave 2**\n",
        "* Compute a new variable z defined by z = y**3 + 2.5 · cos(y)\n"
      ],
      "metadata": {
        "id": "oDm7FGxkuDAX"
      }
    },
    {
      "cell_type": "code",
      "source": [
        "z=y**3 +2.5*cos(y)\n",
        "\n",
        "print(z)"
      ],
      "metadata": {
        "id": "AKCVvL1YuJ9D",
        "colab": {
          "base_uri": "https://localhost:8080/",
          "height": 0
        },
        "outputId": "d3d04870-ce62-47e3-9595-d372345a3e15"
      },
      "execution_count": 36,
      "outputs": [
        {
          "output_type": "stream",
          "name": "stdout",
          "text": [
            "53.096514643947415\n"
          ]
        }
      ]
    },
    {
      "cell_type": "markdown",
      "source": [
        "\n",
        "## **Oppgave 3**\n",
        "* Define the column vector"
      ],
      "metadata": {
        "id": "1k6tvtz6ukuk"
      }
    },
    {
      "cell_type": "code",
      "source": [
        "x=np.array([3,2,-1.5])\n",
        "print(x)\n",
        "########\n"
      ],
      "metadata": {
        "id": "JEgttsFgzkd7",
        "colab": {
          "base_uri": "https://localhost:8080/",
          "height": 0
        },
        "outputId": "14fdca1f-b901-4513-a914-c9c0b190fa2a"
      },
      "execution_count": 37,
      "outputs": [
        {
          "output_type": "stream",
          "name": "stdout",
          "text": [
            "[ 3.   2.  -1.5]\n"
          ]
        }
      ]
    },
    {
      "cell_type": "markdown",
      "source": [
        "## **Oppgave 4**\n",
        "* Define the row vector"
      ],
      "metadata": {
        "id": "_GM4yoXa33vl"
      }
    },
    {
      "cell_type": "code",
      "source": [
        "\n",
        "b=np.array([0,1,5])\n",
        "print(b)\n",
        "\n",
        "\n"
      ],
      "metadata": {
        "id": "Z2eJAWHs34E3",
        "colab": {
          "base_uri": "https://localhost:8080/",
          "height": 0
        },
        "outputId": "9b01baaf-4780-427c-f7b5-315b7194997e"
      },
      "execution_count": 38,
      "outputs": [
        {
          "output_type": "stream",
          "name": "stdout",
          "text": [
            "[0 1 5]\n"
          ]
        }
      ]
    },
    {
      "cell_type": "markdown",
      "source": [
        "## **Oppgave 5**\n",
        "Matrix A (3x3): \\(A = \\begin{bmatrix} 1 & 2 & 3 \\\\ 4 & 5 & 6 \\\\ 7 & 8 & 9 \\end{bmatrix}\\)\n",
        "\n",
        "\n",
        "```\n",
        "A=np.array([\n",
        "[1,0,0.2]\n",
        ",[8,-3,3]\n",
        ",[-2,0.4,1]\n",
        "\n",
        "])\n",
        "```\n",
        "\n",
        "\n",
        "Matrix B (3x2): \\(B = \\begin{bmatrix} 10 & 11 \\\\ 12 & 13 \\\\ 14 & 15 \\end{bmatrix}\\)\n",
        "\n",
        "\n",
        "```\n",
        "B=np.array([\n",
        " [1,2]\n",
        ",[4,-1]\n",
        ",[2,3]\n",
        "\n",
        "])\n",
        "```\n",
        "\n",
        "\n",
        "Matrix C (2x2): \\(C = \\begin{bmatrix} 16 & 17 \\\\ 18 & 19 \\end{bmatrix}\\)\n",
        "\n",
        "\n",
        "\n",
        "```\n",
        "C=np.array([\n",
        " [0,1]\n",
        ",[-2,3]\n",
        "\n",
        "\n",
        "])\n",
        "```\n",
        "\n",
        "\n"
      ],
      "metadata": {
        "id": "ywpKA9Qt4U3T"
      }
    },
    {
      "cell_type": "code",
      "source": [
        "\n",
        "A=np.array([\n",
        "[1,0,0.2]\n",
        ",[8,-3,3]\n",
        ",[-2,0.4,1]\n",
        "\n",
        "])\n",
        "\n",
        "B=np.array([\n",
        " [1,2]\n",
        ",[4,-1]\n",
        ",[2,3]\n",
        "\n",
        "])\n",
        "\n",
        "\n",
        "C=np.array([\n",
        " [0,1]\n",
        ",[-2,3]\n",
        "\n",
        "\n",
        "])\n",
        "\n",
        "\n",
        "print(\"A :\",A)\n",
        "print(\"B :\",B)\n",
        "print(\"B :\",C)\n"
      ],
      "metadata": {
        "id": "XNSGW9jO4fqR",
        "colab": {
          "base_uri": "https://localhost:8080/",
          "height": 0
        },
        "outputId": "49de44bc-42ae-4ef4-fb5c-5ff45aa2875e"
      },
      "execution_count": 39,
      "outputs": [
        {
          "output_type": "stream",
          "name": "stdout",
          "text": [
            "A : [[ 1.   0.   0.2]\n",
            " [ 8.  -3.   3. ]\n",
            " [-2.   0.4  1. ]]\n",
            "B : [[ 1  2]\n",
            " [ 4 -1]\n",
            " [ 2  3]]\n",
            "B : [[ 0  1]\n",
            " [-2  3]]\n"
          ]
        }
      ]
    },
    {
      "cell_type": "markdown",
      "source": [
        "## **Oppgave 6**"
      ],
      "metadata": {
        "id": "MiUpQdbo5vM3"
      }
    },
    {
      "cell_type": "code",
      "source": [
        "#(a)\n",
        "xT = np.transpose(x)\n",
        "bT = np.transpose(b)\n",
        "\n",
        "result_a = x.dot(xT)\n",
        "result_b = xT.dot(b)\n",
        "result_c = x.dot(b)\n",
        "result_d = A.dot(x)\n",
        "result_e = b.dot(A).dot(x)\n",
        "\n",
        "result_f= xT.dot(A).dot(bT)\n",
        "\n",
        "\n",
        "result_g = A.dot(B)\n",
        "result_h = bT.dot(x)\n",
        "result_i = B.dot(C)\n",
        "result_j = A.dot(B).dot(C)\n",
        "\n",
        "\n",
        "\n",
        "\n",
        "\n",
        "print(\"(a) xT · x:\\n\", result_a)\n",
        "print(\"(b) xT · b:\\n\", result_b)\n",
        "print(\"(c) x · b:\\n\", result_c)\n",
        "print(\"(d) A · x:\\n\", result_d)\n",
        "print(\"(e) b · A · x:\\n\", result_e)\n",
        "print(\"(f) xT · A · bT:\\n\", result_f)\n",
        "print(\"(g) A · B:\\n\", result_g)\n",
        "print(\"(h) bT · x:\\n\", result_h)\n",
        "print(\"(i) B · C:\\n\", result_i)\n",
        "print(\"(j) A · B · C:\\n\", result_j)"
      ],
      "metadata": {
        "id": "n3j4EBNe9VPo",
        "colab": {
          "base_uri": "https://localhost:8080/",
          "height": 0
        },
        "outputId": "f86e0dec-937a-485d-b096-b2a8b38751da"
      },
      "execution_count": 40,
      "outputs": [
        {
          "output_type": "stream",
          "name": "stdout",
          "text": [
            "(a) xT · x:\n",
            " 15.25\n",
            "(b) xT · b:\n",
            " -5.5\n",
            "(c) x · b:\n",
            " -5.5\n",
            "(d) A · x:\n",
            " [ 2.7 13.5 -6.7]\n",
            "(e) b · A · x:\n",
            " -20.0\n",
            "(f) xT · A · bT:\n",
            " 18.9\n",
            "(g) A · B:\n",
            " [[ 1.4  2.6]\n",
            " [ 2.  28. ]\n",
            " [ 1.6 -1.4]]\n",
            "(h) bT · x:\n",
            " -5.5\n",
            "(i) B · C:\n",
            " [[-4  7]\n",
            " [ 2  1]\n",
            " [-6 11]]\n",
            "(j) A · B · C:\n",
            " [[ -5.2   9.2]\n",
            " [-56.   86. ]\n",
            " [  2.8  -2.6]]\n"
          ]
        }
      ]
    },
    {
      "cell_type": "markdown",
      "source": [
        "## **Oppgave 7**"
      ],
      "metadata": {
        "id": "TPs3hEJnJWZn"
      }
    },
    {
      "cell_type": "markdown",
      "source": [
        "### (a) h=1\n"
      ],
      "metadata": {
        "id": "zj0Vp1SoJn5_"
      }
    },
    {
      "cell_type": "code",
      "source": [
        "import matplotlib.pyplot as plt\n",
        "\n",
        "h=1\n",
        "w=1\n",
        "start=-2*pi\n",
        "end=2*pi\n",
        "k=0\n",
        "v=2\n",
        "\n",
        "\n",
        "y=np.array([v*np.sin(w*t+k) for t in np.arange(start,end,1/h)])\n",
        "t=np.array([t for t in np.arange(start,end,1/h)])\n",
        "plt.plot(t,y,\"r\")\n",
        "plt.title(f\"H ={h}\")\n",
        "plt.xlabel(\"TIME => in second\")\n",
        "plt.ylabel(\"y(t)\")\n",
        "plt.grid()\n"
      ],
      "metadata": {
        "id": "miggYR9uEEkl",
        "colab": {
          "base_uri": "https://localhost:8080/",
          "height": 472
        },
        "outputId": "8823a912-bd47-4842-a5dd-ba7b2db97821"
      },
      "execution_count": null,
      "outputs": [
        {
          "output_type": "display_data",
          "data": {
            "text/plain": [
              "<Figure size 640x480 with 1 Axes>"
            ],
            "image/png": "[encoded data removed]"
          },
          "metadata": {}
        }
      ]
    },
    {
      "cell_type": "markdown",
      "source": [
        "### (a) h=10"
      ],
      "metadata": {
        "id": "ULD7LS3tJ2ON"
      }
    },
    {
      "cell_type": "code",
      "source": [
        "import matplotlib.pyplot as plt\n",
        "\n",
        "h=10\n",
        "w=1\n",
        "start=-2*pi\n",
        "end=2*pi\n",
        "k=0\n",
        "v=2\n",
        "\n",
        "\n",
        "y=np.array([v*np.sin(w*t+k) for t in np.arange(start,end,1/h)])\n",
        "t=np.array([t for t in np.arange(start,end,1/h)])\n",
        "plt.plot(t,y,\"r\")\n",
        "plt.title(f\"H ={h}\")\n",
        "plt.xlabel(\"TIME => in second\")\n",
        "plt.ylabel(\"y(t)\")\n",
        "plt.grid()\n"
      ],
      "metadata": {
        "colab": {
          "base_uri": "https://localhost:8080/",
          "height": 472
        },
        "id": "_U43UQkHKEgG",
        "outputId": "46fa11ff-d96e-446e-a259-d0f360e9b433"
      },
      "execution_count": null,
      "outputs": [
        {
          "output_type": "display_data",
          "data": {
            "text/plain": [
              "<Figure size 640x480 with 1 Axes>"
            ],
            "image/png": "[encoded data removed]"
          },
          "metadata": {}
        }
      ]
    },
    {
      "cell_type": "markdown",
      "source": [
        "### **(b)** numpy random function"
      ],
      "metadata": {
        "id": "NGjHZ_1tKvR1"
      }
    },
    {
      "cell_type": "code",
      "source": [
        "import numpy as np\n",
        "\n",
        "# Create a column vector of dimension 100 with random values\n",
        "x = np.random.rand(100, 1)\n",
        "\n",
        "# Print the column vector\n",
        "print(x)\n"
      ],
      "metadata": {
        "colab": {
          "base_uri": "https://localhost:8080/",
          "height": 0
        },
        "id": "YzZhPjjGLFkW",
        "outputId": "08a5031c-8ca5-4614-87c0-5d0e76ad3dae"
      },
      "execution_count": 16,
      "outputs": [
        {
          "output_type": "stream",
          "name": "stdout",
          "text": [
            "[[0.30621743]\n",
            " [0.70285548]\n",
            " [0.907704  ]\n",
            " [0.32366122]\n",
            " [0.55650121]\n",
            " [0.67753163]\n",
            " [0.93796051]\n",
            " [0.94505441]\n",
            " [0.13280101]\n",
            " [0.74779995]\n",
            " [0.6724628 ]\n",
            " [0.9647131 ]\n",
            " [0.3336207 ]\n",
            " [0.34924789]\n",
            " [0.73724767]\n",
            " [0.81485035]\n",
            " [0.77222407]\n",
            " [0.66868039]\n",
            " [0.58635314]\n",
            " [0.92301727]\n",
            " [0.94899739]\n",
            " [0.21696162]\n",
            " [0.09334522]\n",
            " [0.61391624]\n",
            " [0.99792415]\n",
            " [0.87755393]\n",
            " [0.60974981]\n",
            " [0.05044018]\n",
            " [0.40773768]\n",
            " [0.65459533]\n",
            " [0.62361062]\n",
            " [0.57936566]\n",
            " [0.51465169]\n",
            " [0.96730376]\n",
            " [0.09092572]\n",
            " [0.92598056]\n",
            " [0.67803974]\n",
            " [0.18181029]\n",
            " [0.97371836]\n",
            " [0.41307368]\n",
            " [0.29268956]\n",
            " [0.73795361]\n",
            " [0.11939657]\n",
            " [0.09158134]\n",
            " [0.75022406]\n",
            " [0.7607643 ]\n",
            " [0.50574413]\n",
            " [0.62474291]\n",
            " [0.69475731]\n",
            " [0.41146113]\n",
            " [0.93194906]\n",
            " [0.91123757]\n",
            " [0.7149526 ]\n",
            " [0.83360205]\n",
            " [0.45717492]\n",
            " [0.48829139]\n",
            " [0.19813269]\n",
            " [0.14846606]\n",
            " [0.65875931]\n",
            " [0.35977537]\n",
            " [0.64276294]\n",
            " [0.07039048]\n",
            " [0.62884949]\n",
            " [0.91697489]\n",
            " [0.69346937]\n",
            " [0.7596457 ]\n",
            " [0.25993538]\n",
            " [0.3167362 ]\n",
            " [0.27298275]\n",
            " [0.46678463]\n",
            " [0.12030043]\n",
            " [0.40272098]\n",
            " [0.88051271]\n",
            " [0.95172628]\n",
            " [0.70531387]\n",
            " [0.57921738]\n",
            " [0.15653608]\n",
            " [0.97917983]\n",
            " [0.08973312]\n",
            " [0.22401296]\n",
            " [0.0609045 ]\n",
            " [0.25988693]\n",
            " [0.30028712]\n",
            " [0.91258023]\n",
            " [0.38290823]\n",
            " [0.69918852]\n",
            " [0.14200389]\n",
            " [0.29670598]\n",
            " [0.15160048]\n",
            " [0.66497328]\n",
            " [0.26425916]\n",
            " [0.62930719]\n",
            " [0.59704216]\n",
            " [0.78755427]\n",
            " [0.98821404]\n",
            " [0.46411784]\n",
            " [0.60592309]\n",
            " [0.29630063]\n",
            " [0.20615997]\n",
            " [0.99760108]]\n"
          ]
        }
      ]
    },
    {
      "cell_type": "markdown",
      "source": [
        "## **Oppgave 8**\n"
      ],
      "metadata": {
        "id": "SUrdcj2cRocz"
      }
    },
    {
      "cell_type": "markdown",
      "source": [
        "* ### (a) linear system of equations in state-space notation\n"
      ],
      "metadata": {
        "id": "9zkNA740R-TC"
      }
    },
    {
      "cell_type": "code",
      "source": [
        "import numpy as np\n",
        "\n",
        "A = np.array([[4, 3],\n",
        "              [-5, 9]])\n",
        "\n",
        "B = np.array([20, 26])\n"
      ],
      "metadata": {
        "id": "DUYCJNJlSVJg"
      },
      "execution_count": 42,
      "outputs": []
    },
    {
      "cell_type": "markdown",
      "source": [
        "* ### (b) Solve for the matrix x\n"
      ],
      "metadata": {
        "id": "33jZSmITSkGK"
      }
    },
    {
      "cell_type": "code",
      "source": [
        "A_inv = np.linalg.inv(A)\n",
        "\n",
        "x_y = np.dot(A_inv, B)\n",
        "\n",
        "x_val, y_val = x_y\n",
        "\n",
        "print(\"x =\", x_val)\n",
        "print(\"y =\", y_val)"
      ],
      "metadata": {
        "colab": {
          "base_uri": "https://localhost:8080/",
          "height": 0
        },
        "id": "9wobJsuASru2",
        "outputId": "33b899cf-d709-45ce-bf2d-0b406db7642f"
      },
      "execution_count": 43,
      "outputs": [
        {
          "output_type": "stream",
          "name": "stdout",
          "text": [
            "x = 2.0000000000000018\n",
            "y = 4.000000000000001\n"
          ]
        }
      ]
    },
    {
      "cell_type": "markdown",
      "source": [
        "* ### (c) Create a for loop that iterates in range from 0 to 10 and print out the increment."
      ],
      "metadata": {
        "id": "dDHGl_N2TM3F"
      }
    },
    {
      "cell_type": "code",
      "source": [
        "for i in range(0,10):\n",
        "  print(i)"
      ],
      "metadata": {
        "colab": {
          "base_uri": "https://localhost:8080/",
          "height": 0
        },
        "id": "5srXwmK1TOlO",
        "outputId": "c3ca3085-998b-419c-993e-c38d507a0c7a"
      },
      "execution_count": 44,
      "outputs": [
        {
          "output_type": "stream",
          "name": "stdout",
          "text": [
            "0\n",
            "1\n",
            "2\n",
            "3\n",
            "4\n",
            "5\n",
            "6\n",
            "7\n",
            "8\n",
            "9\n"
          ]
        }
      ]
    },
    {
      "cell_type": "markdown",
      "source": [
        "- ### (d) Define a python function with an input consisting of a time vector t ∈ [−2π, 2π], that computes the function y = sin(t)."
      ],
      "metadata": {
        "id": "e7B5OWbBT_tA"
      }
    },
    {
      "cell_type": "code",
      "source": [
        "import numpy as np\n",
        "\n",
        "t = np.arange(-2*np.pi, 2*np.pi,1/10)\n",
        "y = np.sin( t )\n",
        "\n",
        "def function(t):\n",
        "  y=np.sin(t)\n",
        "  return y\n"
      ],
      "metadata": {
        "id": "Hk0i_0RaUKeg"
      },
      "execution_count": 45,
      "outputs": []
    },
    {
      "cell_type": "markdown",
      "source": [
        "* ### (e) plot y = sin(t) inside the function."
      ],
      "metadata": {
        "id": "zh_FtSirVUQb"
      }
    },
    {
      "cell_type": "code",
      "source": [
        "\n",
        "\n",
        "plt.plot(t,function(t),\"r\")\n",
        "plt.title(\"Figure 2: sin(t), t ∈ [−2π, 2π]\")\n",
        "\n",
        "\n",
        "plt.xlabel(\"t :secon\")\n",
        "plt.ylabel(\"y=sin(t)\")\n",
        "\n",
        "\n",
        "\n",
        "\n"
      ],
      "metadata": {
        "colab": {
          "base_uri": "https://localhost:8080/",
          "height": 490
        },
        "id": "z7-XLFLhVgg5",
        "outputId": "a7752c30-30da-4ee5-dd6a-4045447cfbac"
      },
      "execution_count": 33,
      "outputs": [
        {
          "output_type": "execute_result",
          "data": {
            "text/plain": [
              "Text(0, 0.5, 'y=sin(t)')"
            ]
          },
          "metadata": {},
          "execution_count": 33
        },
        {
          "output_type": "display_data",
          "data": {
            "text/plain": [
              "<Figure size 640x480 with 1 Axes>"
            ],
            "image/png": "[encoded data removed]"
          },
          "metadata": {}
        }
      ]
    }
  ]
}